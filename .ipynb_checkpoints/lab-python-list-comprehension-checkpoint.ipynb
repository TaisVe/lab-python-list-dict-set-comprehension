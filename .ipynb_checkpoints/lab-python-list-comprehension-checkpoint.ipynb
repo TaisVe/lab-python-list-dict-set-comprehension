{
 "cells": [
  {
   "cell_type": "markdown",
   "id": "25d7736c-ba17-4aff-b6bb-66eba20fbf4e",
   "metadata": {},
   "source": [
    "# Lab | List, Dict and Set Comprehension"
   ]
  },
  {
   "cell_type": "markdown",
   "id": "7dd3cbde-675a-4b81-92c3-f728846dbe06",
   "metadata": {},
   "source": [
    "## Exercise: Managing Customer Orders Optimized with Comprehension"
   ]
  },
  {
   "cell_type": "markdown",
   "id": "5d500160-2fb7-4777-b5e4-09d45ebaf328",
   "metadata": {},
   "source": [
    "In the previous exercise, you developed a program to manage customer orders and inventory. Now, let's take it a step further and incorporate comprehension into your code.\n",
    "\n",
    "Follow the steps below to complete the exercise:\n",
    "\n",
    "1. Review your code from the previous exercise and identify areas where you can apply comprehension to simplify and streamline your code. \n",
    "\n",
    "    - *Hint: Apply it to initialize inventory, updating the inventory and printing the updated inventory.*\n",
    "    \n",
    "    - For example, in initializing the inventory, we could have:\n",
    "    \n",
    "        ```python\n",
    "        def initialize_inventory(products):\n",
    "            inventory = {product: int(input(f\"Enter the quantity of {product}s available: \")) for product in products}\n",
    "            return inventory\n",
    "\n",
    "        ```\n",
    "<br>\n",
    "    \n",
    "    \n",
    "2. Modify the function get_customer_orders so it prompts the user to enter the number of customer orders and gathers the product names using a loop and user input. Use comprehension.\n",
    "\n",
    "3. Add a new function to calculate the total price of the customer order. For each product in customer_orders, prompt the user to enter the price of that product. Use comprehension to calculate the total price. Note: assume that the user can only have 1 unit of each product.\n",
    "\n",
    "4. Modify the update_inventory function to remove the product from the inventory if its quantity becomes zero after fulfilling the customer orders. Use comprehension to filter out the products with a quantity of zero from the inventory.\n",
    "\n",
    "5. Print the total price of the customer order.\n",
    "\n",
    "Your code should produce output similar to the following:\n",
    "\n",
    "```python\n",
    "Enter the quantity of t-shirts available:  5\n",
    "Enter the quantity of mugs available:  4\n",
    "Enter the quantity of hats available:  3\n",
    "Enter the quantity of books available:  2\n",
    "Enter the quantity of keychains available:  1\n",
    "Enter the number of customer orders:  2\n",
    "Enter the name of a product that a customer wants to order:  hat\n",
    "Enter the name of a product that a customer wants to order:  keychain\n",
    "\n",
    "Order Statistics:\n",
    "Total Products Ordered: 2\n",
    "Percentage of Unique Products Ordered: 40.0\n",
    "\n",
    "Updated Inventory:\n",
    "t-shirt: 5\n",
    "mug: 4\n",
    "hat: 2\n",
    "book: 2\n",
    "Enter the price of keychain:  5\n",
    "Enter the price of hat:  10\n",
    "Total Price: 15.0\n",
    "\n",
    "```\n"
   ]
  },
  {
   "cell_type": "code",
   "execution_count": 164,
   "id": "15f30d65-a5f9-4e2a-9d7f-3d014fa86cca",
   "metadata": {},
   "outputs": [],
   "source": [
    "inventory={}\n",
    "products=[\"t-shirt\", \"mug\", \"hat\", \"book\", \"keychain\"]\n",
    "initial_inventory=[0,0,0,0,0]\n",
    "inventory = dict(zip(products,initial_inventory ))"
   ]
  },
  {
   "cell_type": "code",
   "execution_count": 165,
   "id": "52287ece-9e20-459a-a5b8-20fb6e459fcd",
   "metadata": {},
   "outputs": [],
   "source": [
    "def initialize_inventory(products):\n",
    "    inventory={product:int(input(f\"Enter quantity of {product} available:\"))for product in products}\n",
    "    return inventory"
   ]
  },
  {
   "cell_type": "code",
   "execution_count": 166,
   "id": "5f7728b5-5fbb-4973-9ccf-17faa61de797",
   "metadata": {},
   "outputs": [
    {
     "name": "stdin",
     "output_type": "stream",
     "text": [
      "Enter quantity of t-shirt available: 6\n",
      "Enter quantity of mug available: 3\n",
      "Enter quantity of hat available: 4\n",
      "Enter quantity of book available: 6\n",
      "Enter quantity of keychain available: 2\n"
     ]
    }
   ],
   "source": [
    "inventory=initialize_inventory(products)"
   ]
  },
  {
   "cell_type": "code",
   "execution_count": 167,
   "id": "e8ecd1e8-792b-4e01-8337-a23f1d1583ef",
   "metadata": {},
   "outputs": [],
   "source": [
    "#Modify the function get_customer_orders so it prompts the user to enter the number of customer orders and gathers the product names using a loop and user input. Use comprehension.\n",
    "def get_customer_orders():\n",
    "    order=[order for order in iter(lambda: input(\"Enter the name of a product that a customer wants to order (Do you want to stop)\"), \"yes\")]\n",
    "    return order"
   ]
  },
  {
   "cell_type": "code",
   "execution_count": 168,
   "id": "33e8c9ae-56bd-4048-b0cd-58b0ab816c4b",
   "metadata": {},
   "outputs": [
    {
     "name": "stdin",
     "output_type": "stream",
     "text": [
      "Enter the name of a product that a customer wants to order (Do you want to stop) hat\n",
      "Enter the name of a product that a customer wants to order (Do you want to stop) book\n",
      "Enter the name of a product that a customer wants to order (Do you want to stop) yes\n"
     ]
    }
   ],
   "source": [
    "customer_orders=get_customer_orders()"
   ]
  },
  {
   "cell_type": "code",
   "execution_count": 216,
   "id": "8a922b55-b05f-4b7c-8b1b-b9617d6be987",
   "metadata": {},
   "outputs": [],
   "source": [
    "percentage_ordered=0\n",
    "quant_order=0\n",
    "def order_statistics(customer_orders,products):\n",
    "    total_products=len(products)\n",
    "    global quant_order\n",
    "    global percentage_ordered\n",
    "    quant_order=len(customer_orders)\n",
    "    percentage_ordered=round(((quant_order/total_products)*100),2)\n",
    "    if quant_order !=0 and percentage_ordered !=0:\n",
    "        return quant_order, percentage_ordered"
   ]
  },
  {
   "cell_type": "code",
   "execution_count": 217,
   "id": "d0fd7e7b-4e55-41c7-a695-4340c3907e65",
   "metadata": {},
   "outputs": [],
   "source": [
    "quant_order, percentage_ordered=order_statistics(customer_orders,products)"
   ]
  },
  {
   "cell_type": "code",
   "execution_count": 218,
   "id": "60fa20e7-ef58-4df5-9e47-d9180e3c835c",
   "metadata": {},
   "outputs": [],
   "source": [
    "def print_order_statistics(order_statistics):\n",
    "    print(f\"The total products ordered is : {quant_order}\")\n",
    "    print(f\"The percentage of unique products ordered is: {percentage_ordered}\")"
   ]
  },
  {
   "cell_type": "code",
   "execution_count": 219,
   "id": "3d0fe07f-1e61-4d97-b79f-54c5a62a6e49",
   "metadata": {},
   "outputs": [
    {
     "name": "stdout",
     "output_type": "stream",
     "text": [
      "The total products ordered is : 2\n",
      "The percentage of unique products ordered is: 40.0\n"
     ]
    }
   ],
   "source": [
    "print_order_statistics(order_statistics)"
   ]
  },
  {
   "cell_type": "code",
   "execution_count": 173,
   "id": "cbd697e9-d9ce-4e05-8873-2de53aacd13c",
   "metadata": {},
   "outputs": [],
   "source": [
    "#Modify the update_inventory function to remove the product from the inventory if its quantity becomes zero after fulfilling the customer orders. \n",
    "#Use comprehension to filter out the products with a quantity of zero from the inventory.\n",
    "def update_inventory(customer_orders,inventory):\n",
    "    updated_inventory={product: inventory.get(product)-1 if inventory[product] >0 else (print(f\"Cannot order {product}. Out of stock.\")) for product in customer_orders}\n",
    "    return updated_inventory"
   ]
  },
  {
   "cell_type": "code",
   "execution_count": 170,
   "id": "033ce7fd-b69c-492a-a3c7-c34c2187cca3",
   "metadata": {},
   "outputs": [
    {
     "name": "stdout",
     "output_type": "stream",
     "text": [
      "{'hat': 3, 'book': 5}\n"
     ]
    }
   ],
   "source": [
    "update_inventory(customer_orders,inventory)\n",
    "updated_inventory=update_inventory(customer_orders,inventory)\n",
    "print(updated_inventory)"
   ]
  },
  {
   "cell_type": "code",
   "execution_count": 212,
   "id": "90d87e0b-afde-4d64-8e05-33889695e9e1",
   "metadata": {},
   "outputs": [],
   "source": [
    "#Add a new function to calculate the total price of the customer order. \n",
    "#For each product in customer_orders, prompt the user to enter the price of that product. \n",
    "#Use comprehension to calculate the total price. \n",
    "#Note: assume that the user can only have 1 unit of each product.\n",
    "def total_price(customer_orders):\n",
    "    t_price={item: int(input(F\"Enter the price of a {item}:\"))for item in customer_orders}\n",
    "    total_price=sum(t_price.values())\n",
    "    return t_price, total_price"
   ]
  },
  {
   "cell_type": "code",
   "execution_count": 214,
   "id": "d60079f2-0da7-4813-b0e0-a5a4a782e835",
   "metadata": {},
   "outputs": [
    {
     "name": "stdin",
     "output_type": "stream",
     "text": [
      "Enter the price of a hat: 6\n",
      "Enter the price of a book: 8\n"
     ]
    },
    {
     "name": "stdout",
     "output_type": "stream",
     "text": [
      "Total Price: 14.0\n"
     ]
    }
   ],
   "source": [
    "price, price_order=total_price(customer_orders)\n",
    "price_order=float(price_order)\n",
    "print(f\"Total Price: {price_order}\")"
   ]
  },
  {
   "cell_type": "code",
   "execution_count": 210,
   "id": "ed629780-418b-4a0f-ae3c-c03c23ca0eaf",
   "metadata": {},
   "outputs": [
    {
     "data": {
      "text/plain": [
       "13.0"
      ]
     },
     "execution_count": 210,
     "metadata": {},
     "output_type": "execute_result"
    }
   ],
   "source": [
    "price_order"
   ]
  },
  {
   "cell_type": "code",
   "execution_count": null,
   "id": "49cd22a9-aba4-4237-85d8-d3c142afe38f",
   "metadata": {},
   "outputs": [],
   "source": []
  }
 ],
 "metadata": {
  "kernelspec": {
   "display_name": "Python 3 (ipykernel)",
   "language": "python",
   "name": "python3"
  },
  "language_info": {
   "codemirror_mode": {
    "name": "ipython",
    "version": 3
   },
   "file_extension": ".py",
   "mimetype": "text/x-python",
   "name": "python",
   "nbconvert_exporter": "python",
   "pygments_lexer": "ipython3",
   "version": "3.11.7"
  }
 },
 "nbformat": 4,
 "nbformat_minor": 5
}
